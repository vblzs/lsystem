{
 "cells": [
  {
   "cell_type": "code",
   "execution_count": 14,
   "metadata": {},
   "outputs": [],
   "source": [
    "import turtle\n",
    "import importlib\n",
    "importlib.reload(turtle)\n",
    "\n",
    "def turtleStart():\n",
    "    turtle.screensize(canvwidth=1000, canvheight=800, bg = \"#C7E2E7\") \n",
    "    turtle.hideturtle() \n",
    "    turtle.penup()   \n",
    "    turtle.setposition(0,-250)\n",
    "    turtle.left(90) \n",
    "    turtle.pendown()\n",
    "    turtle.speed(\"fastest\")\n",
    "    turtle.tracer(2) #állítja a rajzolási sebességet 0 - azonnali, 1 - lassú, 2 - gyors\n",
    "\n",
    "def general_noveny(axiom, iteraciok):    \n",
    "    aktualis_kifejezes = axiom\n",
    "    uj_kifejezes = ''\n",
    "    for _ in range (0,iteraciok):\n",
    "        for betu in aktualis_kifejezes:\n",
    "            if betu == 'F':\n",
    "                uj_kifejezes += 'FF'            \n",
    "            elif betu == 'X':\n",
    "                uj_kifejezes += 'F[+X][-X]FX'           \n",
    "            else:\n",
    "                uj_kifejezes += betu\n",
    "        aktualis_kifejezes = uj_kifejezes\n",
    "        uj_kifejezes = ''\n",
    "    return aktualis_kifejezes  \n",
    "\n",
    "def rajzol_noveny(kifejezes, szog, lepes_hossz):\n",
    "    verem = []\n",
    "    turtle.speed(0)  \n",
    "    for szimbolum in kifejezes:\n",
    "        if szimbolum == 'F':\n",
    "            turtle.forward(lepes_hossz)\n",
    "        elif szimbolum == '+':\n",
    "            turtle.left(szog)\n",
    "        elif szimbolum == '-':\n",
    "            turtle.right(szog)\n",
    "        elif szimbolum == '[':\n",
    "            verem.append((turtle.pos(), turtle.heading()))\n",
    "        elif szimbolum == ']':\n",
    "            pozicio, szog_irany = verem.pop()\n",
    "            turtle.penup()            \n",
    "            turtle.goto(pozicio)\n",
    "            turtle.pendown()\n",
    "            turtle.setheading(szog_irany)            \n",
    "\n",
    "turtleStart()\n",
    "final_sentence = general_noveny('X', 7)\n",
    "rajzol_noveny(final_sentence, 35, 5)\n",
    "turtle.exitonclick()"
   ]
  }
 ],
 "metadata": {
  "kernelspec": {
   "display_name": "Python 3",
   "language": "python",
   "name": "python3"
  },
  "language_info": {
   "codemirror_mode": {
    "name": "ipython",
    "version": 3
   },
   "file_extension": ".py",
   "mimetype": "text/x-python",
   "name": "python",
   "nbconvert_exporter": "python",
   "pygments_lexer": "ipython3",
   "version": "3.12.0"
  }
 },
 "nbformat": 4,
 "nbformat_minor": 2
}
